{
 "cells": [
  {
   "cell_type": "markdown",
   "metadata": {},
   "source": [
    "# EDA of Metro HubNashville Dataset"
   ]
  },
  {
   "cell_type": "code",
   "execution_count": 1,
   "metadata": {},
   "outputs": [],
   "source": [
    "import pandas as pd\n",
    "import geopandas as gpd\n",
    "import numpy as np\n",
    "##import seaborn as sns\n",
    "import matplotlib.pyplot as plt\n",
    "import folium\n",
    "from folium.plugins import MarkerCluster\n",
    "from folium.plugins import FastMarkerCluster\n",
    "from shapely.geometry import Point\n",
    "\n",
    "%matplotlib inline"
   ]
  },
  {
   "cell_type": "markdown",
   "metadata": {},
   "source": [
    "## Read in HubNashville data file"
   ]
  },
  {
   "cell_type": "code",
   "execution_count": 2,
   "metadata": {},
   "outputs": [],
   "source": [
    "hub_data = pd.read_csv('../data/hubNashville__311__Service_Requests.csv', low_memory = False)"
   ]
  },
  {
   "cell_type": "markdown",
   "metadata": {},
   "source": [
    "## My Questions\n",
    "- what to do with nulls?\n",
    "- fix date format?\n",
    "- separate time from date column?\n",
    "\n",
    "\n",
    "- longest open request?\n",
    "- how quickly are most resolved?\n",
    "- most common request type?\n",
    "- what time do most requests come in?\n",
    "- what month do most requests come in? \n",
    "- what council district has the most requests?    \n",
    "- how many requests are made in a language other than English? No values in this column?  \n",
    "- how many resolved the same day, in a week?\n",
    "- how many escalated?\n",
    "- What are the COVID-19 requests about?\n",
    "- How has COVID-19 impacted (or will impact) public transportation? Animal control?"
   ]
  },
  {
   "cell_type": "markdown",
   "metadata": {},
   "source": [
    "## Questions our team would like to answer:\n",
    "- Trending requests: daily, weekly, monthly, yearly, time of day. Show most demanding requests trends daily, weekly, monthly... and show a comparison  over  the last 3 years, perhaps divide 24 hours into subsets. To possibly prepare for up coming request types and get an overview before digging deeper.\n",
    "- Covid-19 impact (requests, violations) by council district\n",
    "- Tornado impact - Hands On volunteers -- anything to improve for the next need?\n",
    "- Parent requests - how many ‘child’ requests are added while the issue is unresolved.\n",
    "- Average resolution time by type of request (this could be provided to people who make requests, so they have an ETA )\n"
   ]
  },
  {
   "cell_type": "markdown",
   "metadata": {},
   "source": [
    "## Preliminary look at the data"
   ]
  },
  {
   "cell_type": "code",
   "execution_count": 3,
   "metadata": {},
   "outputs": [
    {
     "data": {
      "text/html": [
       "<div>\n",
       "<style scoped>\n",
       "    .dataframe tbody tr th:only-of-type {\n",
       "        vertical-align: middle;\n",
       "    }\n",
       "\n",
       "    .dataframe tbody tr th {\n",
       "        vertical-align: top;\n",
       "    }\n",
       "\n",
       "    .dataframe thead th {\n",
       "        text-align: right;\n",
       "    }\n",
       "</style>\n",
       "<table border=\"1\" class=\"dataframe\">\n",
       "  <thead>\n",
       "    <tr style=\"text-align: right;\">\n",
       "      <th></th>\n",
       "      <th>Request #</th>\n",
       "      <th>Status</th>\n",
       "      <th>Request Type</th>\n",
       "      <th>Subrequest Type</th>\n",
       "      <th>Additional Subrequest Type</th>\n",
       "      <th>Date / Time Opened</th>\n",
       "      <th>Date / Time Closed</th>\n",
       "      <th>Request Origin</th>\n",
       "      <th>System of Origin ID</th>\n",
       "      <th>Contact Type</th>\n",
       "      <th>...</th>\n",
       "      <th>State Issue</th>\n",
       "      <th>Parent Request</th>\n",
       "      <th>Closed When Created</th>\n",
       "      <th>Address</th>\n",
       "      <th>City</th>\n",
       "      <th>Council District</th>\n",
       "      <th>ZIP</th>\n",
       "      <th>Latitude</th>\n",
       "      <th>Longitude</th>\n",
       "      <th>Mapped Location</th>\n",
       "    </tr>\n",
       "  </thead>\n",
       "  <tbody>\n",
       "    <tr>\n",
       "      <th>0</th>\n",
       "      <td>353977</td>\n",
       "      <td>Closed</td>\n",
       "      <td>COVID-19</td>\n",
       "      <td>COVID-19 - Submit Input about The Plan to Reop...</td>\n",
       "      <td>COVID-19 - Submit Input about The Plan to Reop...</td>\n",
       "      <td>04/28/2020 02:33:22 PM</td>\n",
       "      <td>04/28/2020 02:33:22 PM</td>\n",
       "      <td>hubNashville Community</td>\n",
       "      <td>NaN</td>\n",
       "      <td>NaN</td>\n",
       "      <td>...</td>\n",
       "      <td>False</td>\n",
       "      <td>NaN</td>\n",
       "      <td>True</td>\n",
       "      <td>NaN</td>\n",
       "      <td>NaN</td>\n",
       "      <td>NaN</td>\n",
       "      <td>NaN</td>\n",
       "      <td>NaN</td>\n",
       "      <td>NaN</td>\n",
       "      <td>NaN</td>\n",
       "    </tr>\n",
       "    <tr>\n",
       "      <th>1</th>\n",
       "      <td>354524</td>\n",
       "      <td>Closed</td>\n",
       "      <td>Quick Requests</td>\n",
       "      <td>Quick Requests</td>\n",
       "      <td>NaN</td>\n",
       "      <td>04/28/2020 09:46:53 PM</td>\n",
       "      <td>04/28/2020 09:46:53 PM</td>\n",
       "      <td>Phone</td>\n",
       "      <td>NaN</td>\n",
       "      <td>NaN</td>\n",
       "      <td>...</td>\n",
       "      <td>False</td>\n",
       "      <td>NaN</td>\n",
       "      <td>True</td>\n",
       "      <td>NaN</td>\n",
       "      <td>NaN</td>\n",
       "      <td>NaN</td>\n",
       "      <td>NaN</td>\n",
       "      <td>NaN</td>\n",
       "      <td>NaN</td>\n",
       "      <td>NaN</td>\n",
       "    </tr>\n",
       "    <tr>\n",
       "      <th>2</th>\n",
       "      <td>354188</td>\n",
       "      <td>Closed</td>\n",
       "      <td>Quick Requests</td>\n",
       "      <td>Quick Requests</td>\n",
       "      <td>NaN</td>\n",
       "      <td>04/28/2020 05:09:02 PM</td>\n",
       "      <td>04/28/2020 05:09:02 PM</td>\n",
       "      <td>Phone</td>\n",
       "      <td>NaN</td>\n",
       "      <td>NaN</td>\n",
       "      <td>...</td>\n",
       "      <td>False</td>\n",
       "      <td>NaN</td>\n",
       "      <td>True</td>\n",
       "      <td>NaN</td>\n",
       "      <td>NaN</td>\n",
       "      <td>NaN</td>\n",
       "      <td>NaN</td>\n",
       "      <td>NaN</td>\n",
       "      <td>NaN</td>\n",
       "      <td>NaN</td>\n",
       "    </tr>\n",
       "    <tr>\n",
       "      <th>3</th>\n",
       "      <td>354445</td>\n",
       "      <td>Closed</td>\n",
       "      <td>Quick Requests</td>\n",
       "      <td>Quick Requests</td>\n",
       "      <td>NaN</td>\n",
       "      <td>04/28/2020 08:50:36 PM</td>\n",
       "      <td>04/28/2020 08:50:36 PM</td>\n",
       "      <td>Phone</td>\n",
       "      <td>NaN</td>\n",
       "      <td>NaN</td>\n",
       "      <td>...</td>\n",
       "      <td>False</td>\n",
       "      <td>NaN</td>\n",
       "      <td>True</td>\n",
       "      <td>NaN</td>\n",
       "      <td>NaN</td>\n",
       "      <td>NaN</td>\n",
       "      <td>NaN</td>\n",
       "      <td>NaN</td>\n",
       "      <td>NaN</td>\n",
       "      <td>NaN</td>\n",
       "    </tr>\n",
       "    <tr>\n",
       "      <th>4</th>\n",
       "      <td>334893</td>\n",
       "      <td>Closed</td>\n",
       "      <td>Public Safety</td>\n",
       "      <td>Control Number Request for Towing</td>\n",
       "      <td>NaN</td>\n",
       "      <td>03/29/2020 01:08:55 AM</td>\n",
       "      <td>03/29/2020 01:08:55 AM</td>\n",
       "      <td>hubNashville Community</td>\n",
       "      <td>NaN</td>\n",
       "      <td>NaN</td>\n",
       "      <td>...</td>\n",
       "      <td>False</td>\n",
       "      <td>NaN</td>\n",
       "      <td>True</td>\n",
       "      <td>Long Hollow Pike &amp; Northcreek Blvd</td>\n",
       "      <td>GOODLETTSVILLE</td>\n",
       "      <td>10.0</td>\n",
       "      <td>37072</td>\n",
       "      <td>36.32619</td>\n",
       "      <td>-86.700618</td>\n",
       "      <td>(36.32619, -86.70061799999999)</td>\n",
       "    </tr>\n",
       "  </tbody>\n",
       "</table>\n",
       "<p>5 rows × 21 columns</p>\n",
       "</div>"
      ],
      "text/plain": [
       "   Request #  Status    Request Type  \\\n",
       "0     353977  Closed        COVID-19   \n",
       "1     354524  Closed  Quick Requests   \n",
       "2     354188  Closed  Quick Requests   \n",
       "3     354445  Closed  Quick Requests   \n",
       "4     334893  Closed   Public Safety   \n",
       "\n",
       "                                     Subrequest Type  \\\n",
       "0  COVID-19 - Submit Input about The Plan to Reop...   \n",
       "1                                     Quick Requests   \n",
       "2                                     Quick Requests   \n",
       "3                                     Quick Requests   \n",
       "4                  Control Number Request for Towing   \n",
       "\n",
       "                          Additional Subrequest Type      Date / Time Opened  \\\n",
       "0  COVID-19 - Submit Input about The Plan to Reop...  04/28/2020 02:33:22 PM   \n",
       "1                                                NaN  04/28/2020 09:46:53 PM   \n",
       "2                                                NaN  04/28/2020 05:09:02 PM   \n",
       "3                                                NaN  04/28/2020 08:50:36 PM   \n",
       "4                                                NaN  03/29/2020 01:08:55 AM   \n",
       "\n",
       "       Date / Time Closed          Request Origin System of Origin ID  \\\n",
       "0  04/28/2020 02:33:22 PM  hubNashville Community                 NaN   \n",
       "1  04/28/2020 09:46:53 PM                   Phone                 NaN   \n",
       "2  04/28/2020 05:09:02 PM                   Phone                 NaN   \n",
       "3  04/28/2020 08:50:36 PM                   Phone                 NaN   \n",
       "4  03/29/2020 01:08:55 AM  hubNashville Community                 NaN   \n",
       "\n",
       "  Contact Type  ...  State Issue  Parent Request  Closed When Created  \\\n",
       "0          NaN  ...        False             NaN                 True   \n",
       "1          NaN  ...        False             NaN                 True   \n",
       "2          NaN  ...        False             NaN                 True   \n",
       "3          NaN  ...        False             NaN                 True   \n",
       "4          NaN  ...        False             NaN                 True   \n",
       "\n",
       "                              Address            City Council District    ZIP  \\\n",
       "0                                 NaN             NaN              NaN    NaN   \n",
       "1                                 NaN             NaN              NaN    NaN   \n",
       "2                                 NaN             NaN              NaN    NaN   \n",
       "3                                 NaN             NaN              NaN    NaN   \n",
       "4  Long Hollow Pike & Northcreek Blvd  GOODLETTSVILLE             10.0  37072   \n",
       "\n",
       "   Latitude  Longitude                 Mapped Location  \n",
       "0       NaN        NaN                             NaN  \n",
       "1       NaN        NaN                             NaN  \n",
       "2       NaN        NaN                             NaN  \n",
       "3       NaN        NaN                             NaN  \n",
       "4  36.32619 -86.700618  (36.32619, -86.70061799999999)  \n",
       "\n",
       "[5 rows x 21 columns]"
      ]
     },
     "execution_count": 3,
     "metadata": {},
     "output_type": "execute_result"
    }
   ],
   "source": [
    "hub_data.head()"
   ]
  },
  {
   "cell_type": "code",
   "execution_count": 4,
   "metadata": {},
   "outputs": [
    {
     "data": {
      "text/plain": [
       "(348671, 21)"
      ]
     },
     "execution_count": 4,
     "metadata": {},
     "output_type": "execute_result"
    }
   ],
   "source": [
    "hub_data.shape"
   ]
  },
  {
   "cell_type": "code",
   "execution_count": 5,
   "metadata": {},
   "outputs": [
    {
     "name": "stdout",
     "output_type": "stream",
     "text": [
      "<class 'pandas.core.frame.DataFrame'>\n",
      "RangeIndex: 348671 entries, 0 to 348670\n",
      "Data columns (total 21 columns):\n",
      " #   Column                      Non-Null Count   Dtype  \n",
      "---  ------                      --------------   -----  \n",
      " 0   Request #                   348671 non-null  int64  \n",
      " 1   Status                      348671 non-null  object \n",
      " 2   Request Type                348603 non-null  object \n",
      " 3   Subrequest Type             338024 non-null  object \n",
      " 4   Additional Subrequest Type  180510 non-null  object \n",
      " 5   Date / Time Opened          348671 non-null  object \n",
      " 6   Date / Time Closed          338424 non-null  object \n",
      " 7   Request Origin              348671 non-null  object \n",
      " 8   System of Origin ID         26398 non-null   object \n",
      " 9   Contact Type                26129 non-null   object \n",
      " 10  Preferred Language          0 non-null       float64\n",
      " 11  State Issue                 348671 non-null  bool   \n",
      " 12  Parent Request              3589 non-null    float64\n",
      " 13  Closed When Created         348671 non-null  bool   \n",
      " 14  Address                     285058 non-null  object \n",
      " 15  City                        280771 non-null  object \n",
      " 16  Council District            280574 non-null  float64\n",
      " 17  ZIP                         280675 non-null  object \n",
      " 18  Latitude                    284188 non-null  float64\n",
      " 19  Longitude                   284188 non-null  float64\n",
      " 20  Mapped Location             284188 non-null  object \n",
      "dtypes: bool(2), float64(5), int64(1), object(13)\n",
      "memory usage: 51.2+ MB\n"
     ]
    }
   ],
   "source": [
    "hub_data.info(verbose=True)"
   ]
  },
  {
   "cell_type": "markdown",
   "metadata": {},
   "source": [
    "## Sort values by when request was opened"
   ]
  },
  {
   "cell_type": "code",
   "execution_count": 6,
   "metadata": {},
   "outputs": [
    {
     "data": {
      "text/html": [
       "<div>\n",
       "<style scoped>\n",
       "    .dataframe tbody tr th:only-of-type {\n",
       "        vertical-align: middle;\n",
       "    }\n",
       "\n",
       "    .dataframe tbody tr th {\n",
       "        vertical-align: top;\n",
       "    }\n",
       "\n",
       "    .dataframe thead th {\n",
       "        text-align: right;\n",
       "    }\n",
       "</style>\n",
       "<table border=\"1\" class=\"dataframe\">\n",
       "  <thead>\n",
       "    <tr style=\"text-align: right;\">\n",
       "      <th></th>\n",
       "      <th>Request #</th>\n",
       "      <th>Status</th>\n",
       "      <th>Request Type</th>\n",
       "      <th>Subrequest Type</th>\n",
       "      <th>Additional Subrequest Type</th>\n",
       "      <th>Date / Time Opened</th>\n",
       "      <th>Date / Time Closed</th>\n",
       "      <th>Request Origin</th>\n",
       "      <th>System of Origin ID</th>\n",
       "      <th>Contact Type</th>\n",
       "      <th>...</th>\n",
       "      <th>State Issue</th>\n",
       "      <th>Parent Request</th>\n",
       "      <th>Closed When Created</th>\n",
       "      <th>Address</th>\n",
       "      <th>City</th>\n",
       "      <th>Council District</th>\n",
       "      <th>ZIP</th>\n",
       "      <th>Latitude</th>\n",
       "      <th>Longitude</th>\n",
       "      <th>Mapped Location</th>\n",
       "    </tr>\n",
       "  </thead>\n",
       "  <tbody>\n",
       "    <tr>\n",
       "      <th>317237</th>\n",
       "      <td>35966</td>\n",
       "      <td>Closed</td>\n",
       "      <td>Trash, Recycling &amp; Litter</td>\n",
       "      <td>Cart Service</td>\n",
       "      <td>Trash - Report a Damaged Cart</td>\n",
       "      <td>01/01/2018 02:53:00 PM</td>\n",
       "      <td>01/03/2018 03:02:00 PM</td>\n",
       "      <td>hubNashville Community</td>\n",
       "      <td>NaN</td>\n",
       "      <td>Resident</td>\n",
       "      <td>...</td>\n",
       "      <td>False</td>\n",
       "      <td>NaN</td>\n",
       "      <td>True</td>\n",
       "      <td>1015 Maplewood Pl</td>\n",
       "      <td>NASHVILLE</td>\n",
       "      <td>8.0</td>\n",
       "      <td>37216</td>\n",
       "      <td>36.227550</td>\n",
       "      <td>-86.727430</td>\n",
       "      <td>(36.22755, -86.72743)</td>\n",
       "    </tr>\n",
       "    <tr>\n",
       "      <th>315401</th>\n",
       "      <td>35967</td>\n",
       "      <td>Closed</td>\n",
       "      <td>Trash, Recycling &amp; Litter</td>\n",
       "      <td>Recycling Drop Off Sites</td>\n",
       "      <td>NaN</td>\n",
       "      <td>01/01/2018 03:08:00 PM</td>\n",
       "      <td>01/02/2018 08:51:00 AM</td>\n",
       "      <td>hubNashville Community</td>\n",
       "      <td>NaN</td>\n",
       "      <td>Resident</td>\n",
       "      <td>...</td>\n",
       "      <td>False</td>\n",
       "      <td>NaN</td>\n",
       "      <td>True</td>\n",
       "      <td>1333 Lovejoy Court</td>\n",
       "      <td>NASHVILLE</td>\n",
       "      <td>7.0</td>\n",
       "      <td>37216</td>\n",
       "      <td>36.206520</td>\n",
       "      <td>-86.729020</td>\n",
       "      <td>(36.20652, -86.72902)</td>\n",
       "    </tr>\n",
       "    <tr>\n",
       "      <th>327939</th>\n",
       "      <td>35968</td>\n",
       "      <td>Closed</td>\n",
       "      <td>Trash, Recycling &amp; Litter</td>\n",
       "      <td>Cart Service</td>\n",
       "      <td>Trash - Request an Additional Cart</td>\n",
       "      <td>01/01/2018 03:14:00 PM</td>\n",
       "      <td>04/17/2018 04:00:00 AM</td>\n",
       "      <td>hubNashville Community</td>\n",
       "      <td>NaN</td>\n",
       "      <td>Resident</td>\n",
       "      <td>...</td>\n",
       "      <td>False</td>\n",
       "      <td>NaN</td>\n",
       "      <td>True</td>\n",
       "      <td>907 N 16th St</td>\n",
       "      <td>NASHVILLE</td>\n",
       "      <td>6.0</td>\n",
       "      <td>37206</td>\n",
       "      <td>36.186170</td>\n",
       "      <td>-86.740370</td>\n",
       "      <td>(36.18617, -86.74037)</td>\n",
       "    </tr>\n",
       "    <tr>\n",
       "      <th>323146</th>\n",
       "      <td>35969</td>\n",
       "      <td>Closed</td>\n",
       "      <td>Trash, Recycling &amp; Litter</td>\n",
       "      <td>Cart Service</td>\n",
       "      <td>Recycling - Request an Additional Cart</td>\n",
       "      <td>01/01/2018 03:55:00 PM</td>\n",
       "      <td>01/10/2018 04:04:00 AM</td>\n",
       "      <td>hubNashville Community</td>\n",
       "      <td>NaN</td>\n",
       "      <td>Resident</td>\n",
       "      <td>...</td>\n",
       "      <td>False</td>\n",
       "      <td>NaN</td>\n",
       "      <td>True</td>\n",
       "      <td>2930 Lakeland Dr</td>\n",
       "      <td>NASHVILLE</td>\n",
       "      <td>14.0</td>\n",
       "      <td>37214</td>\n",
       "      <td>36.153670</td>\n",
       "      <td>-86.655230</td>\n",
       "      <td>(36.15367, -86.65523)</td>\n",
       "    </tr>\n",
       "    <tr>\n",
       "      <th>318265</th>\n",
       "      <td>35970</td>\n",
       "      <td>Closed</td>\n",
       "      <td>Trash, Recycling &amp; Litter</td>\n",
       "      <td>Cart Service</td>\n",
       "      <td>Recycling - Request an Additional Cart</td>\n",
       "      <td>01/01/2018 04:44:00 PM</td>\n",
       "      <td>01/04/2018 04:02:00 AM</td>\n",
       "      <td>hubNashville Community</td>\n",
       "      <td>NaN</td>\n",
       "      <td>Resident</td>\n",
       "      <td>...</td>\n",
       "      <td>False</td>\n",
       "      <td>NaN</td>\n",
       "      <td>True</td>\n",
       "      <td>106 Creighton Ave</td>\n",
       "      <td>NASHVILLE</td>\n",
       "      <td>6.0</td>\n",
       "      <td>37206</td>\n",
       "      <td>36.190940</td>\n",
       "      <td>-86.729430</td>\n",
       "      <td>(36.19094, -86.72943)</td>\n",
       "    </tr>\n",
       "    <tr>\n",
       "      <th>...</th>\n",
       "      <td>...</td>\n",
       "      <td>...</td>\n",
       "      <td>...</td>\n",
       "      <td>...</td>\n",
       "      <td>...</td>\n",
       "      <td>...</td>\n",
       "      <td>...</td>\n",
       "      <td>...</td>\n",
       "      <td>...</td>\n",
       "      <td>...</td>\n",
       "      <td>...</td>\n",
       "      <td>...</td>\n",
       "      <td>...</td>\n",
       "      <td>...</td>\n",
       "      <td>...</td>\n",
       "      <td>...</td>\n",
       "      <td>...</td>\n",
       "      <td>...</td>\n",
       "      <td>...</td>\n",
       "      <td>...</td>\n",
       "      <td>...</td>\n",
       "    </tr>\n",
       "    <tr>\n",
       "      <th>75878</th>\n",
       "      <td>286840</td>\n",
       "      <td>Closed</td>\n",
       "      <td>Property Violations</td>\n",
       "      <td>Junk and Debris</td>\n",
       "      <td>NaN</td>\n",
       "      <td>12/31/2019 12:37:00 AM</td>\n",
       "      <td>01/24/2020 08:09:00 AM</td>\n",
       "      <td>Mobile App</td>\n",
       "      <td>NaN</td>\n",
       "      <td>NaN</td>\n",
       "      <td>...</td>\n",
       "      <td>False</td>\n",
       "      <td>NaN</td>\n",
       "      <td>False</td>\n",
       "      <td>960 44th Ave</td>\n",
       "      <td>NASHVILLE</td>\n",
       "      <td>20.0</td>\n",
       "      <td>37209</td>\n",
       "      <td>36.160719</td>\n",
       "      <td>-86.840244</td>\n",
       "      <td>(36.16071861, -86.84024379)</td>\n",
       "    </tr>\n",
       "    <tr>\n",
       "      <th>77255</th>\n",
       "      <td>286841</td>\n",
       "      <td>Closed</td>\n",
       "      <td>Property Violations</td>\n",
       "      <td>Junk and Debris</td>\n",
       "      <td>NaN</td>\n",
       "      <td>12/31/2019 12:40:00 AM</td>\n",
       "      <td>01/31/2020 08:08:00 AM</td>\n",
       "      <td>Mobile App</td>\n",
       "      <td>NaN</td>\n",
       "      <td>NaN</td>\n",
       "      <td>...</td>\n",
       "      <td>False</td>\n",
       "      <td>NaN</td>\n",
       "      <td>False</td>\n",
       "      <td>3824 Dr Walter S Davis Blvd</td>\n",
       "      <td>NASHVILLE</td>\n",
       "      <td>21.0</td>\n",
       "      <td>37209</td>\n",
       "      <td>36.166367</td>\n",
       "      <td>-86.835284</td>\n",
       "      <td>(36.16636662, -86.83528438)</td>\n",
       "    </tr>\n",
       "    <tr>\n",
       "      <th>80594</th>\n",
       "      <td>286842</td>\n",
       "      <td>Closed</td>\n",
       "      <td>Streets, Roads &amp; Sidewalks</td>\n",
       "      <td>Roadwork Complaint</td>\n",
       "      <td>NaN</td>\n",
       "      <td>12/31/2019 12:41:00 AM</td>\n",
       "      <td>01/06/2020 05:10:00 PM</td>\n",
       "      <td>hubNashville Community</td>\n",
       "      <td>NaN</td>\n",
       "      <td>NaN</td>\n",
       "      <td>...</td>\n",
       "      <td>False</td>\n",
       "      <td>NaN</td>\n",
       "      <td>False</td>\n",
       "      <td>Columbia Ave</td>\n",
       "      <td>NASHVILLE</td>\n",
       "      <td>20.0</td>\n",
       "      <td>37209</td>\n",
       "      <td>36.152000</td>\n",
       "      <td>-86.872080</td>\n",
       "      <td>(36.152, -86.87208)</td>\n",
       "    </tr>\n",
       "    <tr>\n",
       "      <th>68533</th>\n",
       "      <td>286843</td>\n",
       "      <td>Closed</td>\n",
       "      <td>Streets, Roads &amp; Sidewalks</td>\n",
       "      <td>Street Lighting</td>\n",
       "      <td>Report Outage</td>\n",
       "      <td>12/31/2019 12:43:00 AM</td>\n",
       "      <td>01/09/2020 03:32:00 PM</td>\n",
       "      <td>Mobile App</td>\n",
       "      <td>NaN</td>\n",
       "      <td>NaN</td>\n",
       "      <td>...</td>\n",
       "      <td>False</td>\n",
       "      <td>NaN</td>\n",
       "      <td>False</td>\n",
       "      <td>6437 US-70</td>\n",
       "      <td>NASHVILLE</td>\n",
       "      <td>20.0</td>\n",
       "      <td>37209</td>\n",
       "      <td>36.141966</td>\n",
       "      <td>-86.876172</td>\n",
       "      <td>(36.14196647, -86.87617231)</td>\n",
       "    </tr>\n",
       "    <tr>\n",
       "      <th>67051</th>\n",
       "      <td>286844</td>\n",
       "      <td>Closed</td>\n",
       "      <td>Transit</td>\n",
       "      <td>State Routes</td>\n",
       "      <td>NaN</td>\n",
       "      <td>12/31/2019 12:45:00 AM</td>\n",
       "      <td>01/21/2020 05:40:00 PM</td>\n",
       "      <td>Mobile App</td>\n",
       "      <td>NaN</td>\n",
       "      <td>NaN</td>\n",
       "      <td>...</td>\n",
       "      <td>False</td>\n",
       "      <td>NaN</td>\n",
       "      <td>False</td>\n",
       "      <td>5701 US-70</td>\n",
       "      <td>NASHVILLE</td>\n",
       "      <td>20.0</td>\n",
       "      <td>37209</td>\n",
       "      <td>36.149620</td>\n",
       "      <td>-86.860410</td>\n",
       "      <td>(36.14962, -86.86041)</td>\n",
       "    </tr>\n",
       "  </tbody>\n",
       "</table>\n",
       "<p>348671 rows × 21 columns</p>\n",
       "</div>"
      ],
      "text/plain": [
       "        Request #  Status                Request Type  \\\n",
       "317237      35966  Closed   Trash, Recycling & Litter   \n",
       "315401      35967  Closed   Trash, Recycling & Litter   \n",
       "327939      35968  Closed   Trash, Recycling & Litter   \n",
       "323146      35969  Closed   Trash, Recycling & Litter   \n",
       "318265      35970  Closed   Trash, Recycling & Litter   \n",
       "...           ...     ...                         ...   \n",
       "75878      286840  Closed         Property Violations   \n",
       "77255      286841  Closed         Property Violations   \n",
       "80594      286842  Closed  Streets, Roads & Sidewalks   \n",
       "68533      286843  Closed  Streets, Roads & Sidewalks   \n",
       "67051      286844  Closed                     Transit   \n",
       "\n",
       "                 Subrequest Type              Additional Subrequest Type  \\\n",
       "317237              Cart Service           Trash - Report a Damaged Cart   \n",
       "315401  Recycling Drop Off Sites                                     NaN   \n",
       "327939              Cart Service      Trash - Request an Additional Cart   \n",
       "323146              Cart Service  Recycling - Request an Additional Cart   \n",
       "318265              Cart Service  Recycling - Request an Additional Cart   \n",
       "...                          ...                                     ...   \n",
       "75878            Junk and Debris                                     NaN   \n",
       "77255            Junk and Debris                                     NaN   \n",
       "80594         Roadwork Complaint                                     NaN   \n",
       "68533            Street Lighting                           Report Outage   \n",
       "67051               State Routes                                     NaN   \n",
       "\n",
       "            Date / Time Opened      Date / Time Closed  \\\n",
       "317237  01/01/2018 02:53:00 PM  01/03/2018 03:02:00 PM   \n",
       "315401  01/01/2018 03:08:00 PM  01/02/2018 08:51:00 AM   \n",
       "327939  01/01/2018 03:14:00 PM  04/17/2018 04:00:00 AM   \n",
       "323146  01/01/2018 03:55:00 PM  01/10/2018 04:04:00 AM   \n",
       "318265  01/01/2018 04:44:00 PM  01/04/2018 04:02:00 AM   \n",
       "...                        ...                     ...   \n",
       "75878   12/31/2019 12:37:00 AM  01/24/2020 08:09:00 AM   \n",
       "77255   12/31/2019 12:40:00 AM  01/31/2020 08:08:00 AM   \n",
       "80594   12/31/2019 12:41:00 AM  01/06/2020 05:10:00 PM   \n",
       "68533   12/31/2019 12:43:00 AM  01/09/2020 03:32:00 PM   \n",
       "67051   12/31/2019 12:45:00 AM  01/21/2020 05:40:00 PM   \n",
       "\n",
       "                Request Origin System of Origin ID Contact Type  ...  \\\n",
       "317237  hubNashville Community                 NaN     Resident  ...   \n",
       "315401  hubNashville Community                 NaN     Resident  ...   \n",
       "327939  hubNashville Community                 NaN     Resident  ...   \n",
       "323146  hubNashville Community                 NaN     Resident  ...   \n",
       "318265  hubNashville Community                 NaN     Resident  ...   \n",
       "...                        ...                 ...          ...  ...   \n",
       "75878               Mobile App                 NaN          NaN  ...   \n",
       "77255               Mobile App                 NaN          NaN  ...   \n",
       "80594   hubNashville Community                 NaN          NaN  ...   \n",
       "68533               Mobile App                 NaN          NaN  ...   \n",
       "67051               Mobile App                 NaN          NaN  ...   \n",
       "\n",
       "        State Issue  Parent Request  Closed When Created  \\\n",
       "317237        False             NaN                 True   \n",
       "315401        False             NaN                 True   \n",
       "327939        False             NaN                 True   \n",
       "323146        False             NaN                 True   \n",
       "318265        False             NaN                 True   \n",
       "...             ...             ...                  ...   \n",
       "75878         False             NaN                False   \n",
       "77255         False             NaN                False   \n",
       "80594         False             NaN                False   \n",
       "68533         False             NaN                False   \n",
       "67051         False             NaN                False   \n",
       "\n",
       "                            Address       City Council District    ZIP  \\\n",
       "317237            1015 Maplewood Pl  NASHVILLE              8.0  37216   \n",
       "315401           1333 Lovejoy Court  NASHVILLE              7.0  37216   \n",
       "327939                907 N 16th St  NASHVILLE              6.0  37206   \n",
       "323146             2930 Lakeland Dr  NASHVILLE             14.0  37214   \n",
       "318265            106 Creighton Ave  NASHVILLE              6.0  37206   \n",
       "...                             ...        ...              ...    ...   \n",
       "75878                  960 44th Ave  NASHVILLE             20.0  37209   \n",
       "77255   3824 Dr Walter S Davis Blvd  NASHVILLE             21.0  37209   \n",
       "80594                  Columbia Ave  NASHVILLE             20.0  37209   \n",
       "68533                    6437 US-70  NASHVILLE             20.0  37209   \n",
       "67051                    5701 US-70  NASHVILLE             20.0  37209   \n",
       "\n",
       "         Latitude  Longitude              Mapped Location  \n",
       "317237  36.227550 -86.727430        (36.22755, -86.72743)  \n",
       "315401  36.206520 -86.729020        (36.20652, -86.72902)  \n",
       "327939  36.186170 -86.740370        (36.18617, -86.74037)  \n",
       "323146  36.153670 -86.655230        (36.15367, -86.65523)  \n",
       "318265  36.190940 -86.729430        (36.19094, -86.72943)  \n",
       "...           ...        ...                          ...  \n",
       "75878   36.160719 -86.840244  (36.16071861, -86.84024379)  \n",
       "77255   36.166367 -86.835284  (36.16636662, -86.83528438)  \n",
       "80594   36.152000 -86.872080          (36.152, -86.87208)  \n",
       "68533   36.141966 -86.876172  (36.14196647, -86.87617231)  \n",
       "67051   36.149620 -86.860410        (36.14962, -86.86041)  \n",
       "\n",
       "[348671 rows x 21 columns]"
      ]
     },
     "execution_count": 6,
     "metadata": {},
     "output_type": "execute_result"
    }
   ],
   "source": [
    "hub_data.sort_values(by = 'Date / Time Opened')"
   ]
  },
  {
   "cell_type": "markdown",
   "metadata": {},
   "source": [
    "## Looked at null values"
   ]
  },
  {
   "cell_type": "code",
   "execution_count": 7,
   "metadata": {},
   "outputs": [],
   "source": [
    "mapped_loc_nulls= hub_data['Mapped Location'].isnull()"
   ]
  },
  {
   "cell_type": "code",
   "execution_count": 8,
   "metadata": {},
   "outputs": [
    {
     "data": {
      "text/plain": [
       "0          True\n",
       "1          True\n",
       "2          True\n",
       "3          True\n",
       "4         False\n",
       "          ...  \n",
       "348666    False\n",
       "348667    False\n",
       "348668    False\n",
       "348669    False\n",
       "348670    False\n",
       "Name: Mapped Location, Length: 348671, dtype: bool"
      ]
     },
     "execution_count": 8,
     "metadata": {},
     "output_type": "execute_result"
    }
   ],
   "source": [
    "mapped_loc_nulls"
   ]
  },
  {
   "cell_type": "code",
   "execution_count": 9,
   "metadata": {},
   "outputs": [
    {
     "data": {
      "text/plain": [
       "False    284188\n",
       "True      64483\n",
       "Name: Mapped Location, dtype: int64"
      ]
     },
     "execution_count": 9,
     "metadata": {},
     "output_type": "execute_result"
    }
   ],
   "source": [
    "mapped_loc_nulls.value_counts()"
   ]
  },
  {
   "cell_type": "markdown",
   "metadata": {},
   "source": [
    "## Convert to DateTime"
   ]
  },
  {
   "cell_type": "code",
   "execution_count": null,
   "metadata": {},
   "outputs": [],
   "source": [
    "t1 = pd.to_datetime(hub_data['Date / Time Opened'])\n",
    "t2 = pd.to_datetime(hub_data['Date / Time Closed'])\n",
    "hub_data['time_taken'] = t1-t2\n",
    "# move time_taken column to after time_closed\n",
    "col_name = 'time_taken'\n",
    "hub_time = hub_data.pop(col_name)\n",
    "hub_data.insert(7, col_name, hub_time)\n"
   ]
  },
  {
   "cell_type": "code",
   "execution_count": null,
   "metadata": {},
   "outputs": [],
   "source": [
    "hub_data['Date / Time Opened'] = pd.to_datetime(hub_data['Date / Time Opened'])"
   ]
  },
  {
   "cell_type": "code",
   "execution_count": null,
   "metadata": {},
   "outputs": [],
   "source": [
    "hub_data['Date / Time Closed'] = pd.to_datetime(hub_data['Date / Time Closed'])"
   ]
  },
  {
   "cell_type": "code",
   "execution_count": null,
   "metadata": {},
   "outputs": [],
   "source": [
    "hub_data.head(5)"
   ]
  },
  {
   "cell_type": "markdown",
   "metadata": {},
   "source": [
    "## Create a year column"
   ]
  },
  {
   "cell_type": "code",
   "execution_count": null,
   "metadata": {},
   "outputs": [],
   "source": [
    "##hub_data[['Year Requested']] = hub_data['Date / Time Opened'].str.split('-', n=1, expand=True)\n",
    "##df['date'] = pd.to_datetime(df['date'])\n",
    "##df['year'], df['month'] = df['date'].dt.year, df['date'].dt.month\n",
    "\n",
    "hub_data['Year Requested'] = hub_data['Date / Time Opened'].dt.year"
   ]
  },
  {
   "cell_type": "code",
   "execution_count": null,
   "metadata": {},
   "outputs": [],
   "source": [
    "hub_data.head()"
   ]
  },
  {
   "cell_type": "markdown",
   "metadata": {},
   "source": [
    "## Look at counts in RequestType column"
   ]
  },
  {
   "cell_type": "code",
   "execution_count": null,
   "metadata": {},
   "outputs": [],
   "source": [
    "hub_data['Request Type'].value_counts()"
   ]
  },
  {
   "cell_type": "code",
   "execution_count": null,
   "metadata": {},
   "outputs": [],
   "source": [
    "hub_data['Subrequest Type'].value_counts()"
   ]
  },
  {
   "cell_type": "markdown",
   "metadata": {},
   "source": [
    "## Look at counts in Status column"
   ]
  },
  {
   "cell_type": "code",
   "execution_count": null,
   "metadata": {
    "scrolled": true
   },
   "outputs": [],
   "source": [
    "hub_data['Status'].value_counts()"
   ]
  },
  {
   "cell_type": "markdown",
   "metadata": {},
   "source": [
    "## Isolated COVID-19 requests"
   ]
  },
  {
   "cell_type": "code",
   "execution_count": null,
   "metadata": {},
   "outputs": [],
   "source": [
    "covid_19_req = hub_data[hub_data['Request Type'] == 'COVID-19']\n",
    "covid_19_req"
   ]
  },
  {
   "cell_type": "markdown",
   "metadata": {},
   "source": [
    "## Subset dataframe with Subrequest for 'Dead Animal Pickup'"
   ]
  },
  {
   "cell_type": "code",
   "execution_count": null,
   "metadata": {},
   "outputs": [],
   "source": [
    "animal_pickup = hub_data[(hub_data['Subrequest Type'].notnull())&(hub_data['Subrequest Type']=='Dead Animal Pickup')]"
   ]
  },
  {
   "cell_type": "code",
   "execution_count": null,
   "metadata": {},
   "outputs": [],
   "source": [
    "animal_pickup.shape"
   ]
  },
  {
   "cell_type": "code",
   "execution_count": null,
   "metadata": {},
   "outputs": [],
   "source": [
    "animal_pickup"
   ]
  },
  {
   "cell_type": "markdown",
   "metadata": {},
   "source": [
    "## Subset dataframe with Subrequest for 'Debris'"
   ]
  },
  {
   "cell_type": "code",
   "execution_count": null,
   "metadata": {},
   "outputs": [],
   "source": [
    "debris_sub = hub_data[(hub_data['Subrequest Type'].notnull())&(hub_data['Subrequest Type']=='Debris')]"
   ]
  },
  {
   "cell_type": "code",
   "execution_count": null,
   "metadata": {},
   "outputs": [],
   "source": [
    "debris_sub.head()"
   ]
  },
  {
   "cell_type": "markdown",
   "metadata": {},
   "source": [
    "## Map COVID-19 by zip code = requests, violations,  questions"
   ]
  },
  {
   "cell_type": "markdown",
   "metadata": {},
   "source": [
    "### Create a geometry column"
   ]
  },
  {
   "cell_type": "code",
   "execution_count": null,
   "metadata": {},
   "outputs": [],
   "source": [
    "hub_data['Geometry'] = hub_data.apply(lambda x: Point((float(x.Longitude), \n",
    "                                                         float(x.Latitude))), \n",
    "                                        axis=1)\n"
   ]
  },
  {
   "cell_type": "code",
   "execution_count": null,
   "metadata": {
    "scrolled": true
   },
   "outputs": [],
   "source": [
    "hub_data_geo = gpd.GeoDataFrame(hub_data,  \n",
    "                           geometry = hub_data['Geometry'])\n",
    "hub_data_geo"
   ]
  },
  {
   "cell_type": "code",
   "execution_count": null,
   "metadata": {},
   "outputs": [],
   "source": [
    "print(hub_data_geo.crs) ## How do I set the crs?"
   ]
  },
  {
   "cell_type": "markdown",
   "metadata": {},
   "source": [
    "## Bobcat 1\n",
    "- Dead animal pickup and debris (for example) - make variable dataframes\n",
    "- Count of dead animal pickup (or other categories), made histogram or other visual, count requests by zip \n",
    "- compare between different events (covid, tornado, control) and time of day. \n",
    "- Use this info to inform resource allocation."
   ]
  },
  {
   "cell_type": "markdown",
   "metadata": {},
   "source": [
    "## Bobcat 2\n",
    "- Aggregate count of subrequest type by hour/month \n",
    "- How many of each (sub)request type are open at a given time to help staff forecast when heavy request load will occur.\n",
    "- Consider dividing into 6hr chunks/bins for unit of analysis (morning, afternoon, evening, night)"
   ]
  },
  {
   "cell_type": "markdown",
   "metadata": {},
   "source": [
    "## Bobcat 3\n",
    "- Visualize geographical differences across time to completion/request type/other factors. \n",
    "- Identify spikes/outliers/trends across different dimensions (time/request type/volume/etc.). \n",
    "- Intention to help direct resources. Which area has the most activity to direct staff appropriately. "
   ]
  },
  {
   "cell_type": "code",
   "execution_count": null,
   "metadata": {},
   "outputs": [],
   "source": []
  }
 ],
 "metadata": {
  "kernelspec": {
   "display_name": "Python 3",
   "language": "python",
   "name": "python3"
  },
  "language_info": {
   "codemirror_mode": {
    "name": "ipython",
    "version": 3
   },
   "file_extension": ".py",
   "mimetype": "text/x-python",
   "name": "python",
   "nbconvert_exporter": "python",
   "pygments_lexer": "ipython3",
   "version": "3.7.6"
  }
 },
 "nbformat": 4,
 "nbformat_minor": 2
}
